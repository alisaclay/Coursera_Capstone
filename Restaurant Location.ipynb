{
 "cells": [
  {
   "cell_type": "markdown",
   "metadata": {
    "collapsed": true
   },
   "source": [
    "Choosing New Restaurant in New York City\n",
    "\n",
    "Choosing a restaurant location is one of the more permanent choice a restaurant owner can make.\n",
    "When evaluating a site for a restaurant, I will identify competitors’ locations by leveraging Foursquare location data in New York Area. \n",
    "I will analyze customer data by looking at competitors and find out restaurants that have similar customers. \n",
    "I will identify areas that would be convenient location for example, location next to popular venues such as hotels, parks, shops, etc. \n"
   ]
  }
 ],
 "metadata": {
  "kernelspec": {
   "display_name": "Python 3.6",
   "language": "python",
   "name": "python3"
  },
  "language_info": {
   "codemirror_mode": {
    "name": "ipython",
    "version": 3
   },
   "file_extension": ".py",
   "mimetype": "text/x-python",
   "name": "python",
   "nbconvert_exporter": "python",
   "pygments_lexer": "ipython3",
   "version": "3.6.8"
  }
 },
 "nbformat": 4,
 "nbformat_minor": 1
}
